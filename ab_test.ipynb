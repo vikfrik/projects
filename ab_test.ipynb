{
 "cells": [
  {
   "cell_type": "markdown",
   "id": "31c8d92d",
   "metadata": {},
   "source": [
    "В этом блоке проанализируем А/Б тест\n",
    "\n",
    "Мы добавили на лендинг с оформлением дебетовой карты (https://www.tinkoff.ru/cards/debit-cards/tinkoff-black/) информацию о дополнительных кэшбеках, которые появляются благодаря нашим патнерам. Рассчитываем, что это вырастит конверсию из переходов на лендинг в оформление дебетовой карты. \n",
    "\n",
    "В приложенном файле вам доступны логи переходов на сайт и последующего оформления карточки за каждый день. "
   ]
  },
  {
   "cell_type": "code",
   "execution_count": 1,
   "id": "15fcdd54",
   "metadata": {},
   "outputs": [],
   "source": [
    "import pandas as pd\n",
    "\n",
    "import seaborn as sns\n",
    "import matplotlib.pyplot as plt\n",
    "import scipy.stats\n"
   ]
  },
  {
   "cell_type": "code",
   "execution_count": 2,
   "id": "7eb866a4",
   "metadata": {},
   "outputs": [
    {
     "data": {
      "text/html": [
       "<div>\n",
       "<style scoped>\n",
       "    .dataframe tbody tr th:only-of-type {\n",
       "        vertical-align: middle;\n",
       "    }\n",
       "\n",
       "    .dataframe tbody tr th {\n",
       "        vertical-align: top;\n",
       "    }\n",
       "\n",
       "    .dataframe thead th {\n",
       "        text-align: right;\n",
       "    }\n",
       "</style>\n",
       "<table border=\"1\" class=\"dataframe\">\n",
       "  <thead>\n",
       "    <tr style=\"text-align: right;\">\n",
       "      <th></th>\n",
       "      <th>date</th>\n",
       "      <th>id</th>\n",
       "      <th>group</th>\n",
       "      <th>converted</th>\n",
       "    </tr>\n",
       "  </thead>\n",
       "  <tbody>\n",
       "    <tr>\n",
       "      <th>0</th>\n",
       "      <td>2023-08-01</td>\n",
       "      <td>5030836</td>\n",
       "      <td>control</td>\n",
       "      <td>0</td>\n",
       "    </tr>\n",
       "    <tr>\n",
       "      <th>1</th>\n",
       "      <td>2023-08-01</td>\n",
       "      <td>5091425</td>\n",
       "      <td>control</td>\n",
       "      <td>0</td>\n",
       "    </tr>\n",
       "    <tr>\n",
       "      <th>2</th>\n",
       "      <td>2023-08-01</td>\n",
       "      <td>5106537</td>\n",
       "      <td>control</td>\n",
       "      <td>0</td>\n",
       "    </tr>\n",
       "    <tr>\n",
       "      <th>3</th>\n",
       "      <td>2023-08-01</td>\n",
       "      <td>4556522</td>\n",
       "      <td>control</td>\n",
       "      <td>0</td>\n",
       "    </tr>\n",
       "    <tr>\n",
       "      <th>4</th>\n",
       "      <td>2023-08-01</td>\n",
       "      <td>4002917</td>\n",
       "      <td>control</td>\n",
       "      <td>0</td>\n",
       "    </tr>\n",
       "    <tr>\n",
       "      <th>...</th>\n",
       "      <td>...</td>\n",
       "      <td>...</td>\n",
       "      <td>...</td>\n",
       "      <td>...</td>\n",
       "    </tr>\n",
       "    <tr>\n",
       "      <th>94773</th>\n",
       "      <td>2023-11-01</td>\n",
       "      <td>7729860</td>\n",
       "      <td>test</td>\n",
       "      <td>0</td>\n",
       "    </tr>\n",
       "    <tr>\n",
       "      <th>94774</th>\n",
       "      <td>2023-11-01</td>\n",
       "      <td>8088716</td>\n",
       "      <td>test</td>\n",
       "      <td>0</td>\n",
       "    </tr>\n",
       "    <tr>\n",
       "      <th>94775</th>\n",
       "      <td>2023-11-01</td>\n",
       "      <td>4478281</td>\n",
       "      <td>test</td>\n",
       "      <td>0</td>\n",
       "    </tr>\n",
       "    <tr>\n",
       "      <th>94776</th>\n",
       "      <td>2023-11-01</td>\n",
       "      <td>5710762</td>\n",
       "      <td>test</td>\n",
       "      <td>0</td>\n",
       "    </tr>\n",
       "    <tr>\n",
       "      <th>94777</th>\n",
       "      <td>2023-11-01</td>\n",
       "      <td>8505333</td>\n",
       "      <td>test</td>\n",
       "      <td>0</td>\n",
       "    </tr>\n",
       "  </tbody>\n",
       "</table>\n",
       "<p>94778 rows × 4 columns</p>\n",
       "</div>"
      ],
      "text/plain": [
       "             date       id    group  converted\n",
       "0      2023-08-01  5030836  control          0\n",
       "1      2023-08-01  5091425  control          0\n",
       "2      2023-08-01  5106537  control          0\n",
       "3      2023-08-01  4556522  control          0\n",
       "4      2023-08-01  4002917  control          0\n",
       "...           ...      ...      ...        ...\n",
       "94773  2023-11-01  7729860     test          0\n",
       "94774  2023-11-01  8088716     test          0\n",
       "94775  2023-11-01  4478281     test          0\n",
       "94776  2023-11-01  5710762     test          0\n",
       "94777  2023-11-01  8505333     test          0\n",
       "\n",
       "[94778 rows x 4 columns]"
      ]
     },
     "execution_count": 2,
     "metadata": {},
     "output_type": "execute_result"
    }
   ],
   "source": [
    "\n",
    "df = pd.read_csv('hw_ab.csv')\n",
    "df"
   ]
  },
  {
   "cell_type": "code",
   "execution_count": 3,
   "id": "a21af2f7",
   "metadata": {},
   "outputs": [
    {
     "name": "stdout",
     "output_type": "stream",
     "text": [
      "<class 'pandas.core.frame.DataFrame'>\n",
      "RangeIndex: 94778 entries, 0 to 94777\n",
      "Data columns (total 4 columns):\n",
      " #   Column     Non-Null Count  Dtype \n",
      "---  ------     --------------  ----- \n",
      " 0   date       94778 non-null  object\n",
      " 1   id         94778 non-null  int64 \n",
      " 2   group      94778 non-null  object\n",
      " 3   converted  94778 non-null  int64 \n",
      "dtypes: int64(2), object(2)\n",
      "memory usage: 2.9+ MB\n"
     ]
    }
   ],
   "source": [
    "# date — дата захода пользователя на лендинг\n",
    "# id — идентификатор, присвоенный пользователю\n",
    "# group — группа теста или контроля\n",
    "# converted – 1, если пользователь оформил карточку и 0, если не оформил\n",
    "df.info()"
   ]
  },
  {
   "cell_type": "code",
   "execution_count": 5,
   "id": "c30643b7",
   "metadata": {},
   "outputs": [
    {
     "data": {
      "text/plain": [
       "94778"
      ]
     },
     "execution_count": 5,
     "metadata": {},
     "output_type": "execute_result"
    }
   ],
   "source": [
    "# убедитесь,что пользователи уникальные\n",
    "df['id'].nunique()"
   ]
  },
  {
   "cell_type": "code",
   "execution_count": 4,
   "id": "f4951574",
   "metadata": {},
   "outputs": [
    {
     "data": {
      "text/html": [
       "<div>\n",
       "<style scoped>\n",
       "    .dataframe tbody tr th:only-of-type {\n",
       "        vertical-align: middle;\n",
       "    }\n",
       "\n",
       "    .dataframe tbody tr th {\n",
       "        vertical-align: top;\n",
       "    }\n",
       "\n",
       "    .dataframe thead th {\n",
       "        text-align: right;\n",
       "    }\n",
       "</style>\n",
       "<table border=\"1\" class=\"dataframe\">\n",
       "  <thead>\n",
       "    <tr style=\"text-align: right;\">\n",
       "      <th></th>\n",
       "      <th>date</th>\n",
       "      <th>id</th>\n",
       "      <th>converted</th>\n",
       "    </tr>\n",
       "    <tr>\n",
       "      <th>group</th>\n",
       "      <th></th>\n",
       "      <th></th>\n",
       "      <th></th>\n",
       "    </tr>\n",
       "  </thead>\n",
       "  <tbody>\n",
       "    <tr>\n",
       "      <th>control</th>\n",
       "      <td>93</td>\n",
       "      <td>47330</td>\n",
       "      <td>2</td>\n",
       "    </tr>\n",
       "    <tr>\n",
       "      <th>test</th>\n",
       "      <td>93</td>\n",
       "      <td>47448</td>\n",
       "      <td>2</td>\n",
       "    </tr>\n",
       "  </tbody>\n",
       "</table>\n",
       "</div>"
      ],
      "text/plain": [
       "         date     id  converted\n",
       "group                          \n",
       "control    93  47330          2\n",
       "test       93  47448          2"
      ]
     },
     "execution_count": 4,
     "metadata": {},
     "output_type": "execute_result"
    }
   ],
   "source": [
    "# пользователей в тесте и контрле приблизительно равное количество, \n",
    "# в каждой группе каждый день теста были пользователи, и они как оформляли карту, так и нет\n",
    "df.groupby('group').nunique()"
   ]
  },
  {
   "cell_type": "code",
   "execution_count": 5,
   "id": "b83aa200",
   "metadata": {},
   "outputs": [
    {
     "data": {
      "text/html": [
       "<div>\n",
       "<style scoped>\n",
       "    .dataframe tbody tr th:only-of-type {\n",
       "        vertical-align: middle;\n",
       "    }\n",
       "\n",
       "    .dataframe tbody tr th {\n",
       "        vertical-align: top;\n",
       "    }\n",
       "\n",
       "    .dataframe thead th {\n",
       "        text-align: right;\n",
       "    }\n",
       "</style>\n",
       "<table border=\"1\" class=\"dataframe\">\n",
       "  <thead>\n",
       "    <tr style=\"text-align: right;\">\n",
       "      <th></th>\n",
       "      <th></th>\n",
       "      <th>id</th>\n",
       "    </tr>\n",
       "    <tr>\n",
       "      <th>group</th>\n",
       "      <th>converted</th>\n",
       "      <th></th>\n",
       "    </tr>\n",
       "  </thead>\n",
       "  <tbody>\n",
       "    <tr>\n",
       "      <th rowspan=\"2\" valign=\"top\">control</th>\n",
       "      <th>0</th>\n",
       "      <td>42408</td>\n",
       "    </tr>\n",
       "    <tr>\n",
       "      <th>1</th>\n",
       "      <td>4922</td>\n",
       "    </tr>\n",
       "    <tr>\n",
       "      <th rowspan=\"2\" valign=\"top\">test</th>\n",
       "      <th>0</th>\n",
       "      <td>41774</td>\n",
       "    </tr>\n",
       "    <tr>\n",
       "      <th>1</th>\n",
       "      <td>5674</td>\n",
       "    </tr>\n",
       "  </tbody>\n",
       "</table>\n",
       "</div>"
      ],
      "text/plain": [
       "                      id\n",
       "group   converted       \n",
       "control 0          42408\n",
       "        1           4922\n",
       "test    0          41774\n",
       "        1           5674"
      ]
     },
     "execution_count": 5,
     "metadata": {},
     "output_type": "execute_result"
    }
   ],
   "source": [
    "\n",
    "df[['group','converted','id']].groupby(['group','converted']).count()\n"
   ]
  },
  {
   "cell_type": "code",
   "execution_count": 6,
   "id": "ab7c7012",
   "metadata": {},
   "outputs": [
    {
     "data": {
      "text/plain": [
       "0.10399323896049018"
      ]
     },
     "execution_count": 6,
     "metadata": {},
     "output_type": "execute_result"
    }
   ],
   "source": [
    "# конверсия в контроле: \n",
    "4922/(42408+4922)"
   ]
  },
  {
   "cell_type": "code",
   "execution_count": 7,
   "id": "1d363c22",
   "metadata": {},
   "outputs": [
    {
     "data": {
      "text/plain": [
       "0.11958354409037261"
      ]
     },
     "execution_count": 7,
     "metadata": {},
     "output_type": "execute_result"
    }
   ],
   "source": [
    "# конверсия в тесте: \n",
    "5674/(41774+5674)"
   ]
  },
  {
   "cell_type": "code",
   "execution_count": 8,
   "id": "9c454e1c",
   "metadata": {},
   "outputs": [
    {
     "name": "stdout",
     "output_type": "stream",
     "text": [
      "0.14991652616768292\n"
     ]
    }
   ],
   "source": [
    "# отношение конверсий: \n",
    "\n",
    "conv_test = 5674 # число открытых карт в тесте\n",
    "seen_test = 41774+5674 # общее число наблюдений в тесте, это число заходов на лендинг\n",
    "\n",
    "conv_control = 4922 # число открытых карт в контроле\n",
    "seen_control = 42408+4922 # общее число наблюдений в контроле, это число заходов на лендинг\n",
    "\n",
    "print((conv_test/seen_test)/(conv_control/seen_control)-1)"
   ]
  },
  {
   "cell_type": "code",
   "execution_count": 9,
   "id": "2f4ac4c9",
   "metadata": {},
   "outputs": [
    {
     "data": {
      "text/plain": [
       "6.512476313977771e-35"
      ]
     },
     "execution_count": 9,
     "metadata": {},
     "output_type": "execute_result"
    }
   ],
   "source": [
    "\n",
    "from scipy.stats import binomtest\n",
    "\n",
    "result = binomtest(conv_test, seen_test-conv_test, conv_control/(seen_control-conv_control)) # используйте документацию, чтобы с помощью conv_test,seen_test,conv_control,seen_control получить результат теста\n",
    "result.pvalue"
   ]
  },
  {
   "cell_type": "code",
   "execution_count": 10,
   "id": "334a9514",
   "metadata": {},
   "outputs": [
    {
     "data": {
      "text/plain": [
       "93"
      ]
     },
     "execution_count": 10,
     "metadata": {},
     "output_type": "execute_result"
    }
   ],
   "source": [
    "# количество дней теста\n",
    "df['date'].nunique()\n"
   ]
  },
  {
   "cell_type": "code",
   "execution_count": 11,
   "id": "40e64ccb-cdf9-48c9-9937-d2132ea2878c",
   "metadata": {},
   "outputs": [
    {
     "data": {
      "text/html": [
       "<div>\n",
       "<style scoped>\n",
       "    .dataframe tbody tr th:only-of-type {\n",
       "        vertical-align: middle;\n",
       "    }\n",
       "\n",
       "    .dataframe tbody tr th {\n",
       "        vertical-align: top;\n",
       "    }\n",
       "\n",
       "    .dataframe thead th {\n",
       "        text-align: right;\n",
       "    }\n",
       "</style>\n",
       "<table border=\"1\" class=\"dataframe\">\n",
       "  <thead>\n",
       "    <tr style=\"text-align: right;\">\n",
       "      <th></th>\n",
       "      <th>group</th>\n",
       "      <th>date</th>\n",
       "      <th>converted</th>\n",
       "    </tr>\n",
       "  </thead>\n",
       "  <tbody>\n",
       "    <tr>\n",
       "      <th>0</th>\n",
       "      <td>control</td>\n",
       "      <td>2023-08-01</td>\n",
       "      <td>45</td>\n",
       "    </tr>\n",
       "    <tr>\n",
       "      <th>1</th>\n",
       "      <td>control</td>\n",
       "      <td>2023-08-02</td>\n",
       "      <td>63</td>\n",
       "    </tr>\n",
       "    <tr>\n",
       "      <th>2</th>\n",
       "      <td>control</td>\n",
       "      <td>2023-08-03</td>\n",
       "      <td>60</td>\n",
       "    </tr>\n",
       "    <tr>\n",
       "      <th>3</th>\n",
       "      <td>control</td>\n",
       "      <td>2023-08-04</td>\n",
       "      <td>56</td>\n",
       "    </tr>\n",
       "    <tr>\n",
       "      <th>4</th>\n",
       "      <td>control</td>\n",
       "      <td>2023-08-05</td>\n",
       "      <td>54</td>\n",
       "    </tr>\n",
       "    <tr>\n",
       "      <th>...</th>\n",
       "      <td>...</td>\n",
       "      <td>...</td>\n",
       "      <td>...</td>\n",
       "    </tr>\n",
       "    <tr>\n",
       "      <th>181</th>\n",
       "      <td>test</td>\n",
       "      <td>2023-10-28</td>\n",
       "      <td>58</td>\n",
       "    </tr>\n",
       "    <tr>\n",
       "      <th>182</th>\n",
       "      <td>test</td>\n",
       "      <td>2023-10-29</td>\n",
       "      <td>67</td>\n",
       "    </tr>\n",
       "    <tr>\n",
       "      <th>183</th>\n",
       "      <td>test</td>\n",
       "      <td>2023-10-30</td>\n",
       "      <td>58</td>\n",
       "    </tr>\n",
       "    <tr>\n",
       "      <th>184</th>\n",
       "      <td>test</td>\n",
       "      <td>2023-10-31</td>\n",
       "      <td>68</td>\n",
       "    </tr>\n",
       "    <tr>\n",
       "      <th>185</th>\n",
       "      <td>test</td>\n",
       "      <td>2023-11-01</td>\n",
       "      <td>49</td>\n",
       "    </tr>\n",
       "  </tbody>\n",
       "</table>\n",
       "<p>186 rows × 3 columns</p>\n",
       "</div>"
      ],
      "text/plain": [
       "       group        date  converted\n",
       "0    control  2023-08-01         45\n",
       "1    control  2023-08-02         63\n",
       "2    control  2023-08-03         60\n",
       "3    control  2023-08-04         56\n",
       "4    control  2023-08-05         54\n",
       "..       ...         ...        ...\n",
       "181     test  2023-10-28         58\n",
       "182     test  2023-10-29         67\n",
       "183     test  2023-10-30         58\n",
       "184     test  2023-10-31         68\n",
       "185     test  2023-11-01         49\n",
       "\n",
       "[186 rows x 3 columns]"
      ]
     },
     "execution_count": 11,
     "metadata": {},
     "output_type": "execute_result"
    }
   ],
   "source": [
    "res_by_day = df[['group','converted','date']].groupby(['group','date'], as_index=False).sum()\n",
    "res_by_day # делаем табличку, где для каждого дня считаем количество конверсий (а ниже - и среднего)"
   ]
  },
  {
   "cell_type": "code",
   "execution_count": 12,
   "id": "dd5f8dbb-817d-48f2-8ed6-54f202e8db2f",
   "metadata": {},
   "outputs": [
    {
     "data": {
      "text/html": [
       "<div>\n",
       "<style scoped>\n",
       "    .dataframe tbody tr th:only-of-type {\n",
       "        vertical-align: middle;\n",
       "    }\n",
       "\n",
       "    .dataframe tbody tr th {\n",
       "        vertical-align: top;\n",
       "    }\n",
       "\n",
       "    .dataframe thead th {\n",
       "        text-align: right;\n",
       "    }\n",
       "</style>\n",
       "<table border=\"1\" class=\"dataframe\">\n",
       "  <thead>\n",
       "    <tr style=\"text-align: right;\">\n",
       "      <th></th>\n",
       "      <th>group</th>\n",
       "      <th>date</th>\n",
       "      <th>converted</th>\n",
       "    </tr>\n",
       "  </thead>\n",
       "  <tbody>\n",
       "    <tr>\n",
       "      <th>0</th>\n",
       "      <td>control</td>\n",
       "      <td>2023-08-01</td>\n",
       "      <td>0.087891</td>\n",
       "    </tr>\n",
       "    <tr>\n",
       "      <th>1</th>\n",
       "      <td>control</td>\n",
       "      <td>2023-08-02</td>\n",
       "      <td>0.123047</td>\n",
       "    </tr>\n",
       "    <tr>\n",
       "      <th>2</th>\n",
       "      <td>control</td>\n",
       "      <td>2023-08-03</td>\n",
       "      <td>0.109689</td>\n",
       "    </tr>\n",
       "    <tr>\n",
       "      <th>3</th>\n",
       "      <td>control</td>\n",
       "      <td>2023-08-04</td>\n",
       "      <td>0.115226</td>\n",
       "    </tr>\n",
       "    <tr>\n",
       "      <th>4</th>\n",
       "      <td>control</td>\n",
       "      <td>2023-08-05</td>\n",
       "      <td>0.105263</td>\n",
       "    </tr>\n",
       "    <tr>\n",
       "      <th>...</th>\n",
       "      <td>...</td>\n",
       "      <td>...</td>\n",
       "      <td>...</td>\n",
       "    </tr>\n",
       "    <tr>\n",
       "      <th>181</th>\n",
       "      <td>test</td>\n",
       "      <td>2023-10-28</td>\n",
       "      <td>0.109434</td>\n",
       "    </tr>\n",
       "    <tr>\n",
       "      <th>182</th>\n",
       "      <td>test</td>\n",
       "      <td>2023-10-29</td>\n",
       "      <td>0.124535</td>\n",
       "    </tr>\n",
       "    <tr>\n",
       "      <th>183</th>\n",
       "      <td>test</td>\n",
       "      <td>2023-10-30</td>\n",
       "      <td>0.120833</td>\n",
       "    </tr>\n",
       "    <tr>\n",
       "      <th>184</th>\n",
       "      <td>test</td>\n",
       "      <td>2023-10-31</td>\n",
       "      <td>0.133858</td>\n",
       "    </tr>\n",
       "    <tr>\n",
       "      <th>185</th>\n",
       "      <td>test</td>\n",
       "      <td>2023-11-01</td>\n",
       "      <td>0.093333</td>\n",
       "    </tr>\n",
       "  </tbody>\n",
       "</table>\n",
       "<p>186 rows × 3 columns</p>\n",
       "</div>"
      ],
      "text/plain": [
       "       group        date  converted\n",
       "0    control  2023-08-01   0.087891\n",
       "1    control  2023-08-02   0.123047\n",
       "2    control  2023-08-03   0.109689\n",
       "3    control  2023-08-04   0.115226\n",
       "4    control  2023-08-05   0.105263\n",
       "..       ...         ...        ...\n",
       "181     test  2023-10-28   0.109434\n",
       "182     test  2023-10-29   0.124535\n",
       "183     test  2023-10-30   0.120833\n",
       "184     test  2023-10-31   0.133858\n",
       "185     test  2023-11-01   0.093333\n",
       "\n",
       "[186 rows x 3 columns]"
      ]
     },
     "execution_count": 12,
     "metadata": {},
     "output_type": "execute_result"
    }
   ],
   "source": [
    "res_by_day_conv = df[['group','converted','date']].groupby(['group','date'], as_index=False).mean()\n",
    "res_by_day_conv"
   ]
  },
  {
   "cell_type": "code",
   "execution_count": 13,
   "id": "c7a4b257",
   "metadata": {},
   "outputs": [
    {
     "data": {
      "text/plain": [
       "(0.0, 100.0)"
      ]
     },
     "execution_count": 13,
     "metadata": {},
     "output_type": "execute_result"
    },
    {
     "data": {
      "image/png": "[encoded data removed]",
      "text/plain": [
       "<Figure size 640x480 with 1 Axes>"
      ]
     },
     "metadata": {},
     "output_type": "display_data"
    }
   ],
   "source": [
    "\n",
    "test_n_by_date = list(res_by_day.loc[res_by_day['group']=='test']['converted']) # количество открытых карт и средние конверсии по дням в тесте\n",
    "control_n_by_date = list(res_by_day.loc[res_by_day['group']=='control']['converted']) # количество открытых карт и средние конверсии по дням в контроле\n",
    "\n",
    "sns.lineplot(data= test_n_by_date, color = \"red\")\n",
    "sns.lineplot(data= control_n_by_date, color =\"blue\")\n",
    "\n",
    "plt.ylim(0, 100)"
   ]
  },
  {
   "cell_type": "code",
   "execution_count": 14,
   "id": "3d06d3ee",
   "metadata": {},
   "outputs": [
    {
     "data": {
      "text/plain": [
       "(0.0, 0.2)"
      ]
     },
     "execution_count": 14,
     "metadata": {},
     "output_type": "execute_result"
    },
    {
     "data": {
      "image/png": "[encoded data removed]",
      "text/plain": [
       "<Figure size 640x480 with 1 Axes>"
      ]
     },
     "metadata": {},
     "output_type": "display_data"
    }
   ],
   "source": [
    "\n",
    "test_conv_by_date = list(res_by_day_conv.loc[res_by_day_conv['group']=='test']['converted']) # конверсия из посещений в оформленние карт по дням в тесте\n",
    "control_conv_by_date = list(res_by_day_conv.loc[res_by_day_conv['group']=='control']['converted']) # конверсия из посещений в оформленние карт по дням в контроле\n",
    "sns.lineplot(data= test_conv_by_date, color = \"red\")\n",
    "sns.lineplot(data= control_conv_by_date, color =\"blue\")\n",
    "\n",
    "plt.ylim(0, 0.2)\n"
   ]
  },
  {
   "cell_type": "code",
   "execution_count": 15,
   "id": "d9195606",
   "metadata": {},
   "outputs": [
    {
     "data": {
      "image/png": "[encoded data removed]",
      "text/plain": [
       "<Figure size 640x480 with 1 Axes>"
      ]
     },
     "metadata": {},
     "output_type": "display_data"
    }
   ],
   "source": [
    "# видим, что распределения средних значений по дням в тесте и в контроле похожи на нормальные\n",
    "\n",
    "plt.hist(test_conv_by_date, 20, density=True,color='r',alpha=0.3 )\n",
    "plt.hist(control_conv_by_date, 20, density=True,color='b',alpha=0.3 )\n",
    "\n",
    "plt.show()"
   ]
  },
  {
   "cell_type": "code",
   "execution_count": 16,
   "id": "dac6934f",
   "metadata": {},
   "outputs": [
    {
     "data": {
      "image/png": "[encoded data removed]",
      "text/plain": [
       "<Figure size 640x480 with 1 Axes>"
      ]
     },
     "metadata": {},
     "output_type": "display_data"
    }
   ],
   "source": [
    "plt.hist(test_n_by_date, 20, density=True,color='r',alpha=0.3 )\n",
    "plt.hist(control_n_by_date, 20, density=True,color='b',alpha=0.3 )\n",
    "\n",
    "plt.show()"
   ]
  },
  {
   "cell_type": "code",
   "execution_count": 17,
   "id": "de6a092c",
   "metadata": {},
   "outputs": [
    {
     "data": {
      "text/plain": [
       "TtestResult(statistic=7.209029622736518, pvalue=1.4124701519287306e-11, df=184.0)"
      ]
     },
     "execution_count": 17,
     "metadata": {},
     "output_type": "execute_result"
    }
   ],
   "source": [
    "\n",
    "from scipy.stats import ttest_ind\n",
    "\n",
    "ttest_ind(test_conv_by_date, control_conv_by_date) # используйте документацию, test_conv_by_date, control_conv_by_date, чтобы провести тест\n"
   ]
  },
  {
   "cell_type": "code",
   "execution_count": 18,
   "id": "23d4d918",
   "metadata": {},
   "outputs": [
    {
     "data": {
      "text/plain": [
       "TtestResult(statistic=7.048113433738303, pvalue=3.529180601649641e-11, df=184.0)"
      ]
     },
     "execution_count": 18,
     "metadata": {},
     "output_type": "execute_result"
    }
   ],
   "source": [
    "\n",
    "ttest_ind(test_n_by_date, control_n_by_date) # используйте документацию, test_n_by_date, control_n_by_date, чтобы провести тест"
   ]
  },
  {
   "cell_type": "code",
   "execution_count": 19,
   "id": "d11fd9c6",
   "metadata": {},
   "outputs": [],
   "source": [
    "# получаем, что по ttest средние по дням конверсии отличаются значимо"
   ]
  },
  {
   "cell_type": "code",
   "execution_count": null,
   "id": "94d1f147",
   "metadata": {},
   "outputs": [],
   "source": []
  }
 ],
 "metadata": {
  "kernelspec": {
   "display_name": "Python 3 (ipykernel)",
   "language": "python",
   "name": "python3"
  },
  "language_info": {
   "codemirror_mode": {
    "name": "ipython",
    "version": 3
   },
   "file_extension": ".py",
   "mimetype": "text/x-python",
   "name": "python",
   "nbconvert_exporter": "python",
   "pygments_lexer": "ipython3",
   "version": "3.11.2"
  }
 },
 "nbformat": 4,
 "nbformat_minor": 5
}
