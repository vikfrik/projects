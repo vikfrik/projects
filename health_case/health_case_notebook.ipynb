{
 "cells": [
  {
   "cell_type": "markdown",
   "id": "e5bf3450-0f39-4956-8782-01bf27fd5551",
   "metadata": {},
   "source": [
    "### HEALTH AND WELLNESS SUBSCRIPTION SERVICE ANALYTICS\n",
    "\n",
    "Кейс School of Analytics\r"
   ]
  },
  {
   "cell_type": "code",
   "execution_count": 76,
   "id": "d896de91-431e-4f3d-9809-8f32474f3f17",
   "metadata": {},
   "outputs": [],
   "source": [
    "import pandas as pd\n",
    "import numpy as np\n",
    "\n",
    "import seaborn as sns\n",
    "import matplotlib.pyplot as plt\n",
    "import scipy.stats"
   ]
  },
  {
   "cell_type": "markdown",
   "id": "0f1728f7-8b90-4604-bdf7-43f1d4e0698c",
   "metadata": {},
   "source": [
    "#### Знакомство с данными"
   ]
  },
  {
   "cell_type": "code",
   "execution_count": 77,
   "id": "c13d97e5-063a-40db-a895-8f920f7df396",
   "metadata": {},
   "outputs": [],
   "source": [
    "df1 = pd.read_csv(\"subscription_data.csv\")\n",
    "df2 = pd.read_csv(\"demographics_data.csv\")"
   ]
  },
  {
   "cell_type": "code",
   "execution_count": 78,
   "id": "bd73bc56-03a8-4003-8e68-8e7ca967e63b",
   "metadata": {},
   "outputs": [
    {
     "name": "stdout",
     "output_type": "stream",
     "text": [
      "<class 'pandas.core.frame.DataFrame'>\n",
      "RangeIndex: 10000 entries, 0 to 9999\n",
      "Data columns (total 4 columns):\n",
      " #   Column      Non-Null Count  Dtype \n",
      "---  ------      --------------  ----- \n",
      " 0   Unnamed: 0  10000 non-null  int64 \n",
      " 1   client_id   10000 non-null  int64 \n",
      " 2   start_date  10000 non-null  object\n",
      " 3   end_date    10000 non-null  object\n",
      "dtypes: int64(2), object(2)\n",
      "memory usage: 312.6+ KB\n",
      "None\n",
      "<class 'pandas.core.frame.DataFrame'>\n",
      "RangeIndex: 10000 entries, 0 to 9999\n",
      "Data columns (total 4 columns):\n",
      " #   Column           Non-Null Count  Dtype \n",
      "---  ------           --------------  ----- \n",
      " 0   Unnamed: 0       10000 non-null  int64 \n",
      " 1   client_id        10000 non-null  int64 \n",
      " 2   client_category  10000 non-null  object\n",
      " 3   renewal_flag     10000 non-null  int64 \n",
      "dtypes: int64(3), object(1)\n",
      "memory usage: 312.6+ KB\n",
      "None\n"
     ]
    }
   ],
   "source": [
    "print(df1.info())\n",
    "print(df2.info())"
   ]
  },
  {
   "cell_type": "code",
   "execution_count": 79,
   "id": "27c0f8e7-cc2d-44e6-83dd-eb9e71db233a",
   "metadata": {},
   "outputs": [
    {
     "name": "stdout",
     "output_type": "stream",
     "text": [
      "Unnamed: 0    0\n",
      "client_id     0\n",
      "start_date    0\n",
      "end_date      0\n",
      "dtype: int64\n",
      "Unnamed: 0         0\n",
      "client_id          0\n",
      "client_category    0\n",
      "renewal_flag       0\n",
      "dtype: int64\n"
     ]
    }
   ],
   "source": [
    "print(df1.isnull().sum())\n",
    "print(df2.isnull().sum())"
   ]
  },
  {
   "cell_type": "code",
   "execution_count": 80,
   "id": "cc4ca6f4-96fb-451b-8b07-68956635ffc7",
   "metadata": {},
   "outputs": [
    {
     "name": "stdout",
     "output_type": "stream",
     "text": [
      "10000\n",
      "10000\n"
     ]
    }
   ],
   "source": [
    "print(df1['client_id'].nunique())\n",
    "print(df2['client_id'].nunique())"
   ]
  },
  {
   "cell_type": "code",
   "execution_count": 81,
   "id": "2b1ad169-f72d-4f28-a032-f1a8ef394bcc",
   "metadata": {},
   "outputs": [
    {
     "name": "stdout",
     "output_type": "stream",
     "text": [
      "<class 'pandas.core.frame.DataFrame'>\n",
      "RangeIndex: 10000 entries, 0 to 9999\n",
      "Data columns (total 4 columns):\n",
      " #   Column      Non-Null Count  Dtype         \n",
      "---  ------      --------------  -----         \n",
      " 0   Unnamed: 0  10000 non-null  int64         \n",
      " 1   client_id   10000 non-null  int64         \n",
      " 2   start_date  10000 non-null  datetime64[ns]\n",
      " 3   end_date    10000 non-null  datetime64[ns]\n",
      "dtypes: datetime64[ns](2), int64(2)\n",
      "memory usage: 312.6 KB\n"
     ]
    }
   ],
   "source": [
    "df1['start_date'] = pd.to_datetime(df1['start_date'])\n",
    "df1['end_date'] = pd.to_datetime(df1['end_date'])\n",
    "df1.info()"
   ]
  },
  {
   "cell_type": "markdown",
   "id": "fd797f28-0203-4af8-850a-6f6592f2a62f",
   "metadata": {},
   "source": [
    "Проверили данные на пустые значения, проблемы с типами данных, количество уникальных значений. Для простоты работы объединили два датасета в один"
   ]
  },
  {
   "cell_type": "code",
   "execution_count": 82,
   "id": "4c4d27c5-b47f-4ec9-bb1f-a61cf5f841d3",
   "metadata": {},
   "outputs": [
    {
     "data": {
      "text/html": [
       "<div>\n",
       "<style scoped>\n",
       "    .dataframe tbody tr th:only-of-type {\n",
       "        vertical-align: middle;\n",
       "    }\n",
       "\n",
       "    .dataframe tbody tr th {\n",
       "        vertical-align: top;\n",
       "    }\n",
       "\n",
       "    .dataframe thead th {\n",
       "        text-align: right;\n",
       "    }\n",
       "</style>\n",
       "<table border=\"1\" class=\"dataframe\">\n",
       "  <thead>\n",
       "    <tr style=\"text-align: right;\">\n",
       "      <th></th>\n",
       "      <th>client_id</th>\n",
       "      <th>start_date</th>\n",
       "      <th>end_date</th>\n",
       "      <th>client_category</th>\n",
       "      <th>renewal_flag</th>\n",
       "    </tr>\n",
       "  </thead>\n",
       "  <tbody>\n",
       "    <tr>\n",
       "      <th>0</th>\n",
       "      <td>1</td>\n",
       "      <td>2023-04-13</td>\n",
       "      <td>2023-08-14</td>\n",
       "      <td>Fitness Enthusiasts</td>\n",
       "      <td>0</td>\n",
       "    </tr>\n",
       "    <tr>\n",
       "      <th>1</th>\n",
       "      <td>2</td>\n",
       "      <td>2023-12-15</td>\n",
       "      <td>2024-08-29</td>\n",
       "      <td>Fitness Enthusiasts</td>\n",
       "      <td>1</td>\n",
       "    </tr>\n",
       "    <tr>\n",
       "      <th>2</th>\n",
       "      <td>3</td>\n",
       "      <td>2023-09-28</td>\n",
       "      <td>2023-12-29</td>\n",
       "      <td>Busy Professionals</td>\n",
       "      <td>1</td>\n",
       "    </tr>\n",
       "    <tr>\n",
       "      <th>3</th>\n",
       "      <td>4</td>\n",
       "      <td>2023-04-17</td>\n",
       "      <td>2023-06-10</td>\n",
       "      <td>Mental Wellness Seekers</td>\n",
       "      <td>1</td>\n",
       "    </tr>\n",
       "    <tr>\n",
       "      <th>4</th>\n",
       "      <td>5</td>\n",
       "      <td>2023-03-13</td>\n",
       "      <td>2024-01-04</td>\n",
       "      <td>Fitness Enthusiasts</td>\n",
       "      <td>1</td>\n",
       "    </tr>\n",
       "    <tr>\n",
       "      <th>...</th>\n",
       "      <td>...</td>\n",
       "      <td>...</td>\n",
       "      <td>...</td>\n",
       "      <td>...</td>\n",
       "      <td>...</td>\n",
       "    </tr>\n",
       "    <tr>\n",
       "      <th>9995</th>\n",
       "      <td>9996</td>\n",
       "      <td>2023-05-28</td>\n",
       "      <td>2023-09-10</td>\n",
       "      <td>Busy Professionals</td>\n",
       "      <td>1</td>\n",
       "    </tr>\n",
       "    <tr>\n",
       "      <th>9996</th>\n",
       "      <td>9997</td>\n",
       "      <td>2023-12-31</td>\n",
       "      <td>2024-09-28</td>\n",
       "      <td>Mental Wellness Seekers</td>\n",
       "      <td>1</td>\n",
       "    </tr>\n",
       "    <tr>\n",
       "      <th>9997</th>\n",
       "      <td>9998</td>\n",
       "      <td>2023-12-30</td>\n",
       "      <td>2024-12-10</td>\n",
       "      <td>Busy Professionals</td>\n",
       "      <td>1</td>\n",
       "    </tr>\n",
       "    <tr>\n",
       "      <th>9998</th>\n",
       "      <td>9999</td>\n",
       "      <td>2023-05-20</td>\n",
       "      <td>2024-03-02</td>\n",
       "      <td>Busy Professionals</td>\n",
       "      <td>1</td>\n",
       "    </tr>\n",
       "    <tr>\n",
       "      <th>9999</th>\n",
       "      <td>10000</td>\n",
       "      <td>2023-07-09</td>\n",
       "      <td>2024-02-13</td>\n",
       "      <td>Mental Wellness Seekers</td>\n",
       "      <td>1</td>\n",
       "    </tr>\n",
       "  </tbody>\n",
       "</table>\n",
       "<p>10000 rows × 5 columns</p>\n",
       "</div>"
      ],
      "text/plain": [
       "      client_id start_date   end_date          client_category  renewal_flag\n",
       "0             1 2023-04-13 2023-08-14      Fitness Enthusiasts             0\n",
       "1             2 2023-12-15 2024-08-29      Fitness Enthusiasts             1\n",
       "2             3 2023-09-28 2023-12-29       Busy Professionals             1\n",
       "3             4 2023-04-17 2023-06-10  Mental Wellness Seekers             1\n",
       "4             5 2023-03-13 2024-01-04      Fitness Enthusiasts             1\n",
       "...         ...        ...        ...                      ...           ...\n",
       "9995       9996 2023-05-28 2023-09-10       Busy Professionals             1\n",
       "9996       9997 2023-12-31 2024-09-28  Mental Wellness Seekers             1\n",
       "9997       9998 2023-12-30 2024-12-10       Busy Professionals             1\n",
       "9998       9999 2023-05-20 2024-03-02       Busy Professionals             1\n",
       "9999      10000 2023-07-09 2024-02-13  Mental Wellness Seekers             1\n",
       "\n",
       "[10000 rows x 5 columns]"
      ]
     },
     "execution_count": 82,
     "metadata": {},
     "output_type": "execute_result"
    }
   ],
   "source": [
    "df = pd.merge(df1, df2, left_on='client_id', right_on='client_id')\n",
    "df = df.drop('Unnamed: 0_x', axis=1) #удаление лишних столбцов, дублирующих client_id, которые возникают при объединении датасетов\n",
    "df = df.drop('Unnamed: 0_y', axis=1)\n",
    "df"
   ]
  },
  {
   "cell_type": "code",
   "execution_count": 83,
   "id": "22bf4edb-8fd6-445f-ad8a-74f2f91b85f0",
   "metadata": {
    "scrolled": true
   },
   "outputs": [
    {
     "name": "stdout",
     "output_type": "stream",
     "text": [
      "<class 'pandas.core.frame.DataFrame'>\n",
      "RangeIndex: 10000 entries, 0 to 9999\n",
      "Data columns (total 5 columns):\n",
      " #   Column           Non-Null Count  Dtype         \n",
      "---  ------           --------------  -----         \n",
      " 0   client_id        10000 non-null  int64         \n",
      " 1   start_date       10000 non-null  datetime64[ns]\n",
      " 2   end_date         10000 non-null  datetime64[ns]\n",
      " 3   client_category  10000 non-null  object        \n",
      " 4   renewal_flag     10000 non-null  int64         \n",
      "dtypes: datetime64[ns](2), int64(2), object(1)\n",
      "memory usage: 390.8+ KB\n"
     ]
    }
   ],
   "source": [
    "df.info()"
   ]
  },
  {
   "cell_type": "markdown",
   "id": "44db4cac-51d2-42d8-aae4-368e647889df",
   "metadata": {},
   "source": [
    "#### Статистический анализ"
   ]
  },
  {
   "cell_type": "code",
   "execution_count": 84,
   "id": "c879475e-41c2-4e3d-be54-1375c8771bf1",
   "metadata": {
    "scrolled": true
   },
   "outputs": [
    {
     "data": {
      "text/html": [
       "<div>\n",
       "<style scoped>\n",
       "    .dataframe tbody tr th:only-of-type {\n",
       "        vertical-align: middle;\n",
       "    }\n",
       "\n",
       "    .dataframe tbody tr th {\n",
       "        vertical-align: top;\n",
       "    }\n",
       "\n",
       "    .dataframe thead th {\n",
       "        text-align: right;\n",
       "    }\n",
       "</style>\n",
       "<table border=\"1\" class=\"dataframe\">\n",
       "  <thead>\n",
       "    <tr style=\"text-align: right;\">\n",
       "      <th></th>\n",
       "      <th>client_id</th>\n",
       "      <th>start_date</th>\n",
       "      <th>end_date</th>\n",
       "      <th>renewal_flag</th>\n",
       "    </tr>\n",
       "  </thead>\n",
       "  <tbody>\n",
       "    <tr>\n",
       "      <th>count</th>\n",
       "      <td>10000.00000</td>\n",
       "      <td>10000</td>\n",
       "      <td>10000</td>\n",
       "      <td>10000.000000</td>\n",
       "    </tr>\n",
       "    <tr>\n",
       "      <th>mean</th>\n",
       "      <td>5000.50000</td>\n",
       "      <td>2023-07-01 10:03:47.519999744</td>\n",
       "      <td>2024-01-15 00:24:54.720000</td>\n",
       "      <td>0.704800</td>\n",
       "    </tr>\n",
       "    <tr>\n",
       "      <th>min</th>\n",
       "      <td>1.00000</td>\n",
       "      <td>2023-01-01 00:00:00</td>\n",
       "      <td>2023-02-06 00:00:00</td>\n",
       "      <td>0.000000</td>\n",
       "    </tr>\n",
       "    <tr>\n",
       "      <th>25%</th>\n",
       "      <td>2500.75000</td>\n",
       "      <td>2023-04-03 00:00:00</td>\n",
       "      <td>2023-10-02 00:00:00</td>\n",
       "      <td>0.000000</td>\n",
       "    </tr>\n",
       "    <tr>\n",
       "      <th>50%</th>\n",
       "      <td>5000.50000</td>\n",
       "      <td>2023-06-30 00:00:00</td>\n",
       "      <td>2024-01-14 00:00:00</td>\n",
       "      <td>1.000000</td>\n",
       "    </tr>\n",
       "    <tr>\n",
       "      <th>75%</th>\n",
       "      <td>7500.25000</td>\n",
       "      <td>2023-10-01 00:00:00</td>\n",
       "      <td>2024-04-28 00:00:00</td>\n",
       "      <td>1.000000</td>\n",
       "    </tr>\n",
       "    <tr>\n",
       "      <th>max</th>\n",
       "      <td>10000.00000</td>\n",
       "      <td>2023-12-31 00:00:00</td>\n",
       "      <td>2024-12-24 00:00:00</td>\n",
       "      <td>1.000000</td>\n",
       "    </tr>\n",
       "    <tr>\n",
       "      <th>std</th>\n",
       "      <td>2886.89568</td>\n",
       "      <td>NaN</td>\n",
       "      <td>NaN</td>\n",
       "      <td>0.456155</td>\n",
       "    </tr>\n",
       "  </tbody>\n",
       "</table>\n",
       "</div>"
      ],
      "text/plain": [
       "         client_id                     start_date                    end_date  \\\n",
       "count  10000.00000                          10000                       10000   \n",
       "mean    5000.50000  2023-07-01 10:03:47.519999744  2024-01-15 00:24:54.720000   \n",
       "min        1.00000            2023-01-01 00:00:00         2023-02-06 00:00:00   \n",
       "25%     2500.75000            2023-04-03 00:00:00         2023-10-02 00:00:00   \n",
       "50%     5000.50000            2023-06-30 00:00:00         2024-01-14 00:00:00   \n",
       "75%     7500.25000            2023-10-01 00:00:00         2024-04-28 00:00:00   \n",
       "max    10000.00000            2023-12-31 00:00:00         2024-12-24 00:00:00   \n",
       "std     2886.89568                            NaN                         NaN   \n",
       "\n",
       "       renewal_flag  \n",
       "count  10000.000000  \n",
       "mean       0.704800  \n",
       "min        0.000000  \n",
       "25%        0.000000  \n",
       "50%        1.000000  \n",
       "75%        1.000000  \n",
       "max        1.000000  \n",
       "std        0.456155  "
      ]
     },
     "execution_count": 84,
     "metadata": {},
     "output_type": "execute_result"
    }
   ],
   "source": [
    "df.describe()"
   ]
  },
  {
   "cell_type": "markdown",
   "id": "79b1ad69-f006-4766-95f6-d28e363c2609",
   "metadata": {},
   "source": [
    "Период, за который представлены данные в датасете - это подписки, оформленные в течение всего 2023 года, и некоторые из них заканчиваются (без учёта их возможного продления) только в самом конце 2024 года."
   ]
  },
  {
   "cell_type": "markdown",
   "id": "c04fb952-1521-4044-b276-a319fe240a80",
   "metadata": {},
   "source": [
    "#### Когортный анализ"
   ]
  },
  {
   "cell_type": "markdown",
   "id": "3ddf8a47-ad52-4fd9-a2f9-c242e207145b",
   "metadata": {},
   "source": [
    "В условии нам даны четыре категории клиентов, причём это примерно равные категории."
   ]
  },
  {
   "cell_type": "code",
   "execution_count": 85,
   "id": "b00a11ea-cba5-41a4-9341-805eb4674bc9",
   "metadata": {},
   "outputs": [
    {
     "data": {
      "text/html": [
       "<div>\n",
       "<style scoped>\n",
       "    .dataframe tbody tr th:only-of-type {\n",
       "        vertical-align: middle;\n",
       "    }\n",
       "\n",
       "    .dataframe tbody tr th {\n",
       "        vertical-align: top;\n",
       "    }\n",
       "\n",
       "    .dataframe thead th {\n",
       "        text-align: right;\n",
       "    }\n",
       "</style>\n",
       "<table border=\"1\" class=\"dataframe\">\n",
       "  <thead>\n",
       "    <tr style=\"text-align: right;\">\n",
       "      <th></th>\n",
       "      <th>client_id</th>\n",
       "      <th>start_date</th>\n",
       "      <th>end_date</th>\n",
       "      <th>renewal_flag</th>\n",
       "    </tr>\n",
       "    <tr>\n",
       "      <th>client_category</th>\n",
       "      <th></th>\n",
       "      <th></th>\n",
       "      <th></th>\n",
       "      <th></th>\n",
       "    </tr>\n",
       "  </thead>\n",
       "  <tbody>\n",
       "    <tr>\n",
       "      <th>Busy Professionals</th>\n",
       "      <td>2483</td>\n",
       "      <td>363</td>\n",
       "      <td>593</td>\n",
       "      <td>2</td>\n",
       "    </tr>\n",
       "    <tr>\n",
       "      <th>Fitness Enthusiasts</th>\n",
       "      <td>2476</td>\n",
       "      <td>365</td>\n",
       "      <td>609</td>\n",
       "      <td>2</td>\n",
       "    </tr>\n",
       "    <tr>\n",
       "      <th>Health-Conscious Individuals</th>\n",
       "      <td>2495</td>\n",
       "      <td>365</td>\n",
       "      <td>601</td>\n",
       "      <td>2</td>\n",
       "    </tr>\n",
       "    <tr>\n",
       "      <th>Mental Wellness Seekers</th>\n",
       "      <td>2546</td>\n",
       "      <td>365</td>\n",
       "      <td>605</td>\n",
       "      <td>2</td>\n",
       "    </tr>\n",
       "  </tbody>\n",
       "</table>\n",
       "</div>"
      ],
      "text/plain": [
       "                              client_id  start_date  end_date  renewal_flag\n",
       "client_category                                                            \n",
       "Busy Professionals                 2483         363       593             2\n",
       "Fitness Enthusiasts                2476         365       609             2\n",
       "Health-Conscious Individuals       2495         365       601             2\n",
       "Mental Wellness Seekers            2546         365       605             2"
      ]
     },
     "execution_count": 85,
     "metadata": {},
     "output_type": "execute_result"
    }
   ],
   "source": [
    "df.groupby('client_category').nunique()"
   ]
  },
  {
   "cell_type": "markdown",
   "id": "888679a0-ed38-47ee-adf4-7cc7dcc58164",
   "metadata": {},
   "source": [
    "Посмотрим на конверсию в категориях по отдельности. Выходит, что люди с плотным графиком в их жизни демонстрируют наименьшую конверсию среди всех категорий (можно предположить, что это связано с тем, что они не могут выделить время и мотивацию на занятие спортом и здоровьем)."
   ]
  },
  {
   "cell_type": "code",
   "execution_count": 86,
   "id": "9acb06bb-9af2-44cf-92f9-6fef8d283784",
   "metadata": {},
   "outputs": [
    {
     "name": "stdout",
     "output_type": "stream",
     "text": [
      "renewal_flag                         0         1\n",
      "client_category                                 \n",
      "Busy Professionals            0.306484  0.693516\n",
      "Fitness Enthusiasts           0.296042  0.703958\n",
      "Health-Conscious Individuals  0.289780  0.710220\n",
      "Mental Wellness Seekers       0.288688  0.711312\n"
     ]
    }
   ],
   "source": [
    "renewal_rates = df.groupby('client_category')['renewal_flag'].value_counts(normalize=True).unstack(fill_value=0)\n",
    "print(renewal_rates)"
   ]
  },
  {
   "cell_type": "code",
   "execution_count": 87,
   "id": "2ded3e26-a7e1-4aa6-9173-e2f512e32e91",
   "metadata": {},
   "outputs": [
    {
     "data": {
      "image/png": "[encoded data removed]",
      "text/plain": [
       "<Figure size 1000x600 with 1 Axes>"
      ]
     },
     "metadata": {},
     "output_type": "display_data"
    }
   ],
   "source": [
    "renewal_rates.plot(kind='bar', stacked=False, figsize=(10, 6))\n",
    "plt.title('Коэффициенты продления по категории клиента')\n",
    "plt.xlabel('Категория клиента')\n",
    "plt.ylabel('Коэффициент продления/непродления')\n",
    "plt.xticks(rotation=45)\n",
    "plt.legend(title='Продлено', labels=['Нет', 'Да'])\n",
    "plt.tight_layout()\n",
    "plt.show()"
   ]
  },
  {
   "cell_type": "markdown",
   "id": "144bc159-c2c6-45fa-80b8-6ba5d2a58368",
   "metadata": {},
   "source": [
    "Также попробуем найти временные закономерности. Посмотрим, как продолжительность текущей подписки влияет на коэффициент продления подписки."
   ]
  },
  {
   "cell_type": "code",
   "execution_count": 88,
   "id": "83812138-9657-40c5-8f8b-aefc20628e06",
   "metadata": {},
   "outputs": [
    {
     "data": {
      "text/html": [
       "<div>\n",
       "<style scoped>\n",
       "    .dataframe tbody tr th:only-of-type {\n",
       "        vertical-align: middle;\n",
       "    }\n",
       "\n",
       "    .dataframe tbody tr th {\n",
       "        vertical-align: top;\n",
       "    }\n",
       "\n",
       "    .dataframe thead th {\n",
       "        text-align: right;\n",
       "    }\n",
       "</style>\n",
       "<table border=\"1\" class=\"dataframe\">\n",
       "  <thead>\n",
       "    <tr style=\"text-align: right;\">\n",
       "      <th>client_category</th>\n",
       "      <th>Busy Professionals</th>\n",
       "      <th>Fitness Enthusiasts</th>\n",
       "      <th>Health-Conscious Individuals</th>\n",
       "      <th>Mental Wellness Seekers</th>\n",
       "    </tr>\n",
       "    <tr>\n",
       "      <th>cohort_group</th>\n",
       "      <th></th>\n",
       "      <th></th>\n",
       "      <th></th>\n",
       "      <th></th>\n",
       "    </tr>\n",
       "  </thead>\n",
       "  <tbody>\n",
       "    <tr>\n",
       "      <th>2023-01</th>\n",
       "      <td>210.0</td>\n",
       "      <td>219.0</td>\n",
       "      <td>219.0</td>\n",
       "      <td>211.0</td>\n",
       "    </tr>\n",
       "    <tr>\n",
       "      <th>2023-02</th>\n",
       "      <td>197.0</td>\n",
       "      <td>177.0</td>\n",
       "      <td>193.0</td>\n",
       "      <td>192.0</td>\n",
       "    </tr>\n",
       "    <tr>\n",
       "      <th>2023-03</th>\n",
       "      <td>207.0</td>\n",
       "      <td>185.0</td>\n",
       "      <td>212.0</td>\n",
       "      <td>220.0</td>\n",
       "    </tr>\n",
       "    <tr>\n",
       "      <th>2023-04</th>\n",
       "      <td>221.0</td>\n",
       "      <td>215.0</td>\n",
       "      <td>214.0</td>\n",
       "      <td>215.0</td>\n",
       "    </tr>\n",
       "    <tr>\n",
       "      <th>2023-05</th>\n",
       "      <td>216.0</td>\n",
       "      <td>221.0</td>\n",
       "      <td>198.0</td>\n",
       "      <td>229.0</td>\n",
       "    </tr>\n",
       "    <tr>\n",
       "      <th>2023-06</th>\n",
       "      <td>180.0</td>\n",
       "      <td>243.0</td>\n",
       "      <td>211.0</td>\n",
       "      <td>207.0</td>\n",
       "    </tr>\n",
       "    <tr>\n",
       "      <th>2023-07</th>\n",
       "      <td>209.0</td>\n",
       "      <td>209.0</td>\n",
       "      <td>229.0</td>\n",
       "      <td>191.0</td>\n",
       "    </tr>\n",
       "    <tr>\n",
       "      <th>2023-08</th>\n",
       "      <td>201.0</td>\n",
       "      <td>201.0</td>\n",
       "      <td>211.0</td>\n",
       "      <td>244.0</td>\n",
       "    </tr>\n",
       "    <tr>\n",
       "      <th>2023-09</th>\n",
       "      <td>204.0</td>\n",
       "      <td>180.0</td>\n",
       "      <td>184.0</td>\n",
       "      <td>210.0</td>\n",
       "    </tr>\n",
       "    <tr>\n",
       "      <th>2023-10</th>\n",
       "      <td>189.0</td>\n",
       "      <td>229.0</td>\n",
       "      <td>221.0</td>\n",
       "      <td>198.0</td>\n",
       "    </tr>\n",
       "    <tr>\n",
       "      <th>2023-11</th>\n",
       "      <td>232.0</td>\n",
       "      <td>181.0</td>\n",
       "      <td>193.0</td>\n",
       "      <td>232.0</td>\n",
       "    </tr>\n",
       "    <tr>\n",
       "      <th>2023-12</th>\n",
       "      <td>217.0</td>\n",
       "      <td>216.0</td>\n",
       "      <td>210.0</td>\n",
       "      <td>197.0</td>\n",
       "    </tr>\n",
       "  </tbody>\n",
       "</table>\n",
       "</div>"
      ],
      "text/plain": [
       "client_category  Busy Professionals  Fitness Enthusiasts  \\\n",
       "cohort_group                                               \n",
       "2023-01                       210.0                219.0   \n",
       "2023-02                       197.0                177.0   \n",
       "2023-03                       207.0                185.0   \n",
       "2023-04                       221.0                215.0   \n",
       "2023-05                       216.0                221.0   \n",
       "2023-06                       180.0                243.0   \n",
       "2023-07                       209.0                209.0   \n",
       "2023-08                       201.0                201.0   \n",
       "2023-09                       204.0                180.0   \n",
       "2023-10                       189.0                229.0   \n",
       "2023-11                       232.0                181.0   \n",
       "2023-12                       217.0                216.0   \n",
       "\n",
       "client_category  Health-Conscious Individuals  Mental Wellness Seekers  \n",
       "cohort_group                                                            \n",
       "2023-01                                 219.0                    211.0  \n",
       "2023-02                                 193.0                    192.0  \n",
       "2023-03                                 212.0                    220.0  \n",
       "2023-04                                 214.0                    215.0  \n",
       "2023-05                                 198.0                    229.0  \n",
       "2023-06                                 211.0                    207.0  \n",
       "2023-07                                 229.0                    191.0  \n",
       "2023-08                                 211.0                    244.0  \n",
       "2023-09                                 184.0                    210.0  \n",
       "2023-10                                 221.0                    198.0  \n",
       "2023-11                                 193.0                    232.0  \n",
       "2023-12                                 210.0                    197.0  "
      ]
     },
     "execution_count": 88,
     "metadata": {},
     "output_type": "execute_result"
    }
   ],
   "source": [
    "df['cohort_group'] = df['start_date'].dt.to_period('M')\n",
    "cohort_data = df.groupby(['cohort_group', 'client_category'])['client_id'].nunique().reset_index()\n",
    "cohort_counts = cohort_data.pivot_table(index='cohort_group', columns='client_category', values='client_id', fill_value=0)\n",
    "cohort_counts"
   ]
  },
  {
   "cell_type": "markdown",
   "id": "151f2c51-fdab-4e7b-a81f-b348877d6f9f",
   "metadata": {},
   "source": [
    "Посчитаем среднюю продолжительность подписки с продлением и без продления"
   ]
  },
  {
   "cell_type": "code",
   "execution_count": 89,
   "id": "736b44c2-2ca9-4b58-9e80-01d3e79a1cbe",
   "metadata": {},
   "outputs": [
    {
     "data": {
      "text/plain": [
       "198.16416004540295"
      ]
     },
     "execution_count": 89,
     "metadata": {},
     "output_type": "execute_result"
    }
   ],
   "source": [
    "df['subscription_length'] = (df['end_date'] - df['start_date']).dt.days\n",
    "renewal_length = df[df['renewal_flag'] == 1]['subscription_length'].mean()\n",
    "renewal_length"
   ]
  },
  {
   "cell_type": "code",
   "execution_count": 90,
   "id": "d7482e7d-73ec-4a5a-a677-eded3d456b03",
   "metadata": {},
   "outputs": [
    {
     "data": {
      "text/plain": [
       "196.24627371273712"
      ]
     },
     "execution_count": 90,
     "metadata": {},
     "output_type": "execute_result"
    }
   ],
   "source": [
    "non_renewal_length = df[df['renewal_flag'] == 0]['subscription_length'].mean()\n",
    "non_renewal_length"
   ]
  },
  {
   "cell_type": "code",
   "execution_count": 66,
   "id": "8e8d6d34-eea7-40e8-9e2c-6d96b3492b33",
   "metadata": {},
   "outputs": [
    {
     "data": {
      "image/png": "[encoded data removed]",
      "text/plain": [
       "<Figure size 1200x600 with 1 Axes>"
      ]
     },
     "metadata": {},
     "output_type": "display_data"
    }
   ],
   "source": [
    "plt.figure(figsize=(12, 6))\n",
    "\n",
    "sns.histplot(df[df['renewal_flag'] == 1]['subscription_length'], kde=True, color='green', label='Продление')\n",
    "sns.histplot(df[df['renewal_flag'] == 0]['subscription_length'], kde=True, color='red', label='Нет продления')\n",
    "\n",
    "plt.title('Распределение продолжительности подписки для продлений и непродлений')\n",
    "plt.xlabel('Продолжительность подписки (дни)')\n",
    "plt.ylabel('Частота')\n",
    "plt.legend()\n",
    "plt.tight_layout()\n",
    "plt.show()\n"
   ]
  },
  {
   "cell_type": "code",
   "execution_count": 95,
   "id": "5a781af4-efd4-4521-a1f7-457665294e8f",
   "metadata": {},
   "outputs": [
    {
     "data": {
      "image/png": "[encoded data removed]",
      "text/plain": [
       "<Figure size 1000x600 with 1 Axes>"
      ]
     },
     "metadata": {},
     "output_type": "display_data"
    }
   ],
   "source": [
    "plt.figure(figsize=(10, 6))\n",
    "sns.boxplot(x='renewal_flag', y='subscription_length', data=df)\n",
    "plt.title('Продолжительность подписки в зависимости от наличия продления')\n",
    "plt.xlabel('renewal_flag')\n",
    "plt.ylabel('subscription_length')\n",
    "\n",
    "plt.show()"
   ]
  },
  {
   "cell_type": "markdown",
   "id": "c70a653c-f99e-4287-994c-ba04bb54272a",
   "metadata": {},
   "source": [
    "Построив распределение и боксплоты, мы убедились в том, что средняя продолжительность подписок как в случаях, когда клиент продлевает подписку, так и в случаях, когда клиент прекращает пользоваться сервисом, практически не отличается. Также мы наблюдаем и отсутствие выбросов в данных на текущем этапе."
   ]
  },
  {
   "cell_type": "markdown",
   "id": "b671be47-c2d9-4d27-8ed2-0feb1f840f48",
   "metadata": {},
   "source": [
    "#### Проверка гипотезы \n",
    "\"that fitness enthusiasts who receive special session access are more likely to renew their subscriptions than other client categories\""
   ]
  },
  {
   "cell_type": "markdown",
   "id": "367a08fe-3d52-42dd-9ba9-3405bdeccebb",
   "metadata": {},
   "source": [
    "Для проведения A/B теста создаём рандомизированную контрольную группу (ввиду малочисленности категории \"Fitness Enthusiasts\", мы берем тестовую группу равной размеру этой категории)."
   ]
  },
  {
   "cell_type": "code",
   "execution_count": 122,
   "id": "8e157a95-33a5-4eff-852f-05eaf2ab5710",
   "metadata": {},
   "outputs": [
    {
     "data": {
      "text/html": [
       "<div>\n",
       "<style scoped>\n",
       "    .dataframe tbody tr th:only-of-type {\n",
       "        vertical-align: middle;\n",
       "    }\n",
       "\n",
       "    .dataframe tbody tr th {\n",
       "        vertical-align: top;\n",
       "    }\n",
       "\n",
       "    .dataframe thead th {\n",
       "        text-align: right;\n",
       "    }\n",
       "</style>\n",
       "<table border=\"1\" class=\"dataframe\">\n",
       "  <thead>\n",
       "    <tr style=\"text-align: right;\">\n",
       "      <th></th>\n",
       "      <th>client_id</th>\n",
       "      <th>start_date</th>\n",
       "      <th>end_date</th>\n",
       "      <th>client_category</th>\n",
       "      <th>renewal_flag</th>\n",
       "      <th>cohort_group</th>\n",
       "      <th>subscription_length</th>\n",
       "    </tr>\n",
       "  </thead>\n",
       "  <tbody>\n",
       "    <tr>\n",
       "      <th>7824</th>\n",
       "      <td>7825</td>\n",
       "      <td>2023-10-27</td>\n",
       "      <td>2023-12-15</td>\n",
       "      <td>Mental Wellness Seekers</td>\n",
       "      <td>1</td>\n",
       "      <td>2023-10</td>\n",
       "      <td>49</td>\n",
       "    </tr>\n",
       "    <tr>\n",
       "      <th>1890</th>\n",
       "      <td>1891</td>\n",
       "      <td>2023-07-30</td>\n",
       "      <td>2024-04-15</td>\n",
       "      <td>Mental Wellness Seekers</td>\n",
       "      <td>0</td>\n",
       "      <td>2023-07</td>\n",
       "      <td>260</td>\n",
       "    </tr>\n",
       "    <tr>\n",
       "      <th>3593</th>\n",
       "      <td>3594</td>\n",
       "      <td>2023-07-10</td>\n",
       "      <td>2023-12-26</td>\n",
       "      <td>Health-Conscious Individuals</td>\n",
       "      <td>1</td>\n",
       "      <td>2023-07</td>\n",
       "      <td>169</td>\n",
       "    </tr>\n",
       "    <tr>\n",
       "      <th>8492</th>\n",
       "      <td>8493</td>\n",
       "      <td>2023-01-20</td>\n",
       "      <td>2023-07-21</td>\n",
       "      <td>Health-Conscious Individuals</td>\n",
       "      <td>1</td>\n",
       "      <td>2023-01</td>\n",
       "      <td>182</td>\n",
       "    </tr>\n",
       "    <tr>\n",
       "      <th>5065</th>\n",
       "      <td>5066</td>\n",
       "      <td>2023-11-23</td>\n",
       "      <td>2024-02-11</td>\n",
       "      <td>Busy Professionals</td>\n",
       "      <td>1</td>\n",
       "      <td>2023-11</td>\n",
       "      <td>80</td>\n",
       "    </tr>\n",
       "    <tr>\n",
       "      <th>...</th>\n",
       "      <td>...</td>\n",
       "      <td>...</td>\n",
       "      <td>...</td>\n",
       "      <td>...</td>\n",
       "      <td>...</td>\n",
       "      <td>...</td>\n",
       "      <td>...</td>\n",
       "    </tr>\n",
       "    <tr>\n",
       "      <th>3819</th>\n",
       "      <td>3820</td>\n",
       "      <td>2023-06-24</td>\n",
       "      <td>2023-12-31</td>\n",
       "      <td>Mental Wellness Seekers</td>\n",
       "      <td>1</td>\n",
       "      <td>2023-06</td>\n",
       "      <td>190</td>\n",
       "    </tr>\n",
       "    <tr>\n",
       "      <th>4095</th>\n",
       "      <td>4096</td>\n",
       "      <td>2023-09-28</td>\n",
       "      <td>2024-08-03</td>\n",
       "      <td>Busy Professionals</td>\n",
       "      <td>1</td>\n",
       "      <td>2023-09</td>\n",
       "      <td>310</td>\n",
       "    </tr>\n",
       "    <tr>\n",
       "      <th>8821</th>\n",
       "      <td>8822</td>\n",
       "      <td>2023-12-26</td>\n",
       "      <td>2024-03-23</td>\n",
       "      <td>Health-Conscious Individuals</td>\n",
       "      <td>1</td>\n",
       "      <td>2023-12</td>\n",
       "      <td>88</td>\n",
       "    </tr>\n",
       "    <tr>\n",
       "      <th>7117</th>\n",
       "      <td>7118</td>\n",
       "      <td>2023-05-01</td>\n",
       "      <td>2024-04-29</td>\n",
       "      <td>Mental Wellness Seekers</td>\n",
       "      <td>1</td>\n",
       "      <td>2023-05</td>\n",
       "      <td>364</td>\n",
       "    </tr>\n",
       "    <tr>\n",
       "      <th>7333</th>\n",
       "      <td>7334</td>\n",
       "      <td>2023-11-08</td>\n",
       "      <td>2024-04-23</td>\n",
       "      <td>Busy Professionals</td>\n",
       "      <td>1</td>\n",
       "      <td>2023-11</td>\n",
       "      <td>167</td>\n",
       "    </tr>\n",
       "  </tbody>\n",
       "</table>\n",
       "<p>2476 rows × 7 columns</p>\n",
       "</div>"
      ],
      "text/plain": [
       "      client_id start_date   end_date               client_category  \\\n",
       "7824       7825 2023-10-27 2023-12-15       Mental Wellness Seekers   \n",
       "1890       1891 2023-07-30 2024-04-15       Mental Wellness Seekers   \n",
       "3593       3594 2023-07-10 2023-12-26  Health-Conscious Individuals   \n",
       "8492       8493 2023-01-20 2023-07-21  Health-Conscious Individuals   \n",
       "5065       5066 2023-11-23 2024-02-11            Busy Professionals   \n",
       "...         ...        ...        ...                           ...   \n",
       "3819       3820 2023-06-24 2023-12-31       Mental Wellness Seekers   \n",
       "4095       4096 2023-09-28 2024-08-03            Busy Professionals   \n",
       "8821       8822 2023-12-26 2024-03-23  Health-Conscious Individuals   \n",
       "7117       7118 2023-05-01 2024-04-29       Mental Wellness Seekers   \n",
       "7333       7334 2023-11-08 2024-04-23            Busy Professionals   \n",
       "\n",
       "      renewal_flag cohort_group  subscription_length  \n",
       "7824             1      2023-10                   49  \n",
       "1890             0      2023-07                  260  \n",
       "3593             1      2023-07                  169  \n",
       "8492             1      2023-01                  182  \n",
       "5065             1      2023-11                   80  \n",
       "...            ...          ...                  ...  \n",
       "3819             1      2023-06                  190  \n",
       "4095             1      2023-09                  310  \n",
       "8821             1      2023-12                   88  \n",
       "7117             1      2023-05                  364  \n",
       "7333             1      2023-11                  167  \n",
       "\n",
       "[2476 rows x 7 columns]"
      ]
     },
     "execution_count": 122,
     "metadata": {},
     "output_type": "execute_result"
    }
   ],
   "source": [
    "target_size = len(df[df['client_category'] == 'Fitness Enthusiasts'])\n",
    "target = df[df['client_category'] == 'Fitness Enthusiasts']\n",
    "control = []\n",
    "\n",
    "data = df[df['client_category'] != 'Fitness Enthusiasts']\n",
    "control = data.sample(n=target_size, random_state=42)\n",
    "control"
   ]
  },
  {
   "cell_type": "code",
   "execution_count": 123,
   "id": "78ae0189-8bfc-4b27-8790-e60b3b0f4186",
   "metadata": {
    "scrolled": true
   },
   "outputs": [
    {
     "name": "stdout",
     "output_type": "stream",
     "text": [
      "<class 'pandas.core.frame.DataFrame'>\n",
      "Index: 2476 entries, 7824 to 7333\n",
      "Data columns (total 7 columns):\n",
      " #   Column               Non-Null Count  Dtype         \n",
      "---  ------               --------------  -----         \n",
      " 0   client_id            2476 non-null   int64         \n",
      " 1   start_date           2476 non-null   datetime64[ns]\n",
      " 2   end_date             2476 non-null   datetime64[ns]\n",
      " 3   client_category      2476 non-null   object        \n",
      " 4   renewal_flag         2476 non-null   int64         \n",
      " 5   cohort_group         2476 non-null   period[M]     \n",
      " 6   subscription_length  2476 non-null   int64         \n",
      "dtypes: datetime64[ns](2), int64(3), object(1), period[M](1)\n",
      "memory usage: 154.8+ KB\n"
     ]
    }
   ],
   "source": [
    "control.info()"
   ]
  },
  {
   "cell_type": "markdown",
   "id": "ca478bbd-1076-47aa-a42d-bc89f2836621",
   "metadata": {},
   "source": [
    "Заметим, что в контрольной группе представлены представители трёх категорий также примерно равномерно."
   ]
  },
  {
   "cell_type": "code",
   "execution_count": 124,
   "id": "dbd92518-799c-49ad-b9b4-e730c00f1102",
   "metadata": {},
   "outputs": [
    {
     "name": "stdout",
     "output_type": "stream",
     "text": [
      "                                           client_id\n",
      "client_category              renewal_flag           \n",
      "Busy Professionals           0                   246\n",
      "                             1                   582\n",
      "Health-Conscious Individuals 0                   219\n",
      "                             1                   604\n",
      "Mental Wellness Seekers      0                   247\n",
      "                             1                   578\n",
      "                                  client_id\n",
      "client_category     renewal_flag           \n",
      "Fitness Enthusiasts 0                   733\n",
      "                    1                  1743\n"
     ]
    }
   ],
   "source": [
    "print(control[['client_category','renewal_flag','client_id']].groupby(['client_category','renewal_flag']).count())\n",
    "print(target[['client_category','renewal_flag','client_id']].groupby(['client_category','renewal_flag']).count())"
   ]
  },
  {
   "cell_type": "markdown",
   "id": "d2eacabf-0f5e-45b5-b020-44cb5358df29",
   "metadata": {},
   "source": [
    "Рассчитаем конверсии для контрольной и тестовой группы"
   ]
  },
  {
   "cell_type": "code",
   "execution_count": 125,
   "id": "41c40393-a3a6-4b9b-81ff-53c46f57cd05",
   "metadata": {},
   "outputs": [
    {
     "data": {
      "text/plain": [
       "0.7124394184168013"
      ]
     },
     "execution_count": 125,
     "metadata": {},
     "output_type": "execute_result"
    }
   ],
   "source": [
    "renewal_control = control['renewal_flag'].sum()/control['client_id'].count()\n",
    "renewal_control"
   ]
  },
  {
   "cell_type": "code",
   "execution_count": 126,
   "id": "838a1bc8-3d21-41b7-a0b5-88b31de65258",
   "metadata": {},
   "outputs": [
    {
     "data": {
      "text/plain": [
       "0.7039579967689822"
      ]
     },
     "execution_count": 126,
     "metadata": {},
     "output_type": "execute_result"
    }
   ],
   "source": [
    "renewal_target = target['renewal_flag'].sum()/target['client_id'].count()\n",
    "renewal_target"
   ]
  },
  {
   "cell_type": "markdown",
   "id": "3f5341c2-360c-41c7-875e-ce39330bc786",
   "metadata": {},
   "source": [
    "Получается, что конверсия в тестовой группе примерно на 1% меньше, чем в контрольной. Можно предварительно сказать, что гипотеза не оправдалась, однако надо проверить результаты на статистическую значимость."
   ]
  },
  {
   "cell_type": "code",
   "execution_count": 129,
   "id": "bf217387-da48-4c13-8dc4-388f989ccc73",
   "metadata": {},
   "outputs": [
    {
     "name": "stdout",
     "output_type": "stream",
     "text": [
      "-0.011904761904761862\n"
     ]
    }
   ],
   "source": [
    "conv_target = target['renewal_flag'].sum() # число продлений в тесте\n",
    "seen_target = target['client_id'].count() # общее число наблюдений в тесте\n",
    "\n",
    "conv_control = control['renewal_flag'].sum() # число продлений в контроле\n",
    "seen_control = control['client_id'].count() # общее число наблюдений в контроле\n",
    "\n",
    "print((conv_target/seen_target)/(conv_control/seen_control)-1)"
   ]
  },
  {
   "cell_type": "code",
   "execution_count": 130,
   "id": "de7e8ba5-26c4-45f3-ad60-51d3f58efee9",
   "metadata": {},
   "outputs": [
    {
     "data": {
      "text/plain": [
       "0.3511700661874084"
      ]
     },
     "execution_count": 130,
     "metadata": {},
     "output_type": "execute_result"
    }
   ],
   "source": [
    "from scipy.stats import binomtest\n",
    "\n",
    "result = binomtest(conv_target, seen_target, conv_control/seen_control, alternative='two-sided')\n",
    "result.pvalue"
   ]
  },
  {
   "cell_type": "markdown",
   "id": "ddead17b-34fb-4d1d-a5a6-03b01be6b870",
   "metadata": {},
   "source": [
    "Получается, что p-value > 0.05, это значит, что мы не можем отвергнуть нулевую гипотезу, то есть не можем утверждать, что разница в конверсиях статистически значима. Требуются дополнительные исследования на большем объёме данных."
   ]
  }
 ],
 "metadata": {
  "kernelspec": {
   "display_name": "Python 3 (ipykernel)",
   "language": "python",
   "name": "python3"
  },
  "language_info": {
   "codemirror_mode": {
    "name": "ipython",
    "version": 3
   },
   "file_extension": ".py",
   "mimetype": "text/x-python",
   "name": "python",
   "nbconvert_exporter": "python",
   "pygments_lexer": "ipython3",
   "version": "3.11.2"
  }
 },
 "nbformat": 4,
 "nbformat_minor": 5
}
